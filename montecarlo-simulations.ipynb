{
 "cells": [
  {
   "cell_type": "markdown",
   "metadata": {
    "collapsed": false,
    "pycharm": {
     "name": "#%% md\n"
    }
   },
   "source": [
    "# Monte Carlo Simulations"
   ]
  },
  {
   "cell_type": "code",
   "execution_count": 1,
   "metadata": {
    "collapsed": false,
    "pycharm": {
     "is_executing": true,
     "name": "#%%\n"
    }
   },
   "outputs": [],
   "source": [
    "import numpy as np\n",
    "import scipy.stats as st\n",
    "import matplotlib.pyplot as plt"
   ]
  },
  {
   "cell_type": "markdown",
   "metadata": {},
   "source": [
    "Invest C0 = 1000 in an asset for 1 year.  \n",
    "\n",
    "Historical mean return = 9 %  \n",
    "Historical return stdev = 12 %  "
   ]
  },
  {
   "cell_type": "code",
   "execution_count": 2,
   "metadata": {},
   "outputs": [],
   "source": [
    "C0 = 1000\n",
    "\n",
    "r_mean = 9/100\n",
    "r_std = 12/100"
   ]
  },
  {
   "cell_type": "markdown",
   "metadata": {},
   "source": [
    "### 1. Monte Carlo Simulation Analysis to evaluate the investment after 1 year\n",
    "\n",
    "#### Modelisation\n",
    "\n",
    "##### Deterministic model\n",
    "\n",
    "C1 = (1 + r_0_1) * C0  \n",
    "\n",
    "where:\n",
    " - C1 = amount of investement after 1 year  \n",
    " - r_0_1: rate of return from t = 0 to t = 1 year  \n",
    "\n",
    "##### Random Variables\n",
    "\n",
    "<u>r_0_1</u> is the input random variable of the model.  \n",
    "<u>name, \" </u> is the output random variable of the model.  \n",
    "\n",
    "##### Assumptions\n",
    "\n",
    "The rate of return, r_0_1, is normal => N(mu, sigma) where:  \n",
    "- mu = historical mean return  \n",
    "- sigma = historical return stdev\n",
    "\n",
    "#### Simulation\n",
    "\n",
    "The input variable r_0_1 is normal, therefore it can be simulated by drawing random numbers from the given normal distribution.  \n",
    "\n",
    "By using the deterministic formula (C1 = (1 + r_0_1)*C0), the distribution of the output variable C1 can be derived."
   ]
  },
  {
   "cell_type": "code",
   "execution_count": 3,
   "metadata": {},
   "outputs": [
    {
     "name": "stdout",
     "output_type": "stream",
     "text": [
      "r_0_1 distribution =>\n",
      "\n",
      "\t- 0 => 0.09149\n",
      "\t- 1 => -0.01658\n",
      "\t- 2 => 0.0474\n",
      "\t- 3 => -0.04584\n",
      "\t- 4 => 0.08969\n",
      "\t- 5 => 0.03045\n",
      "\t- 6 => 0.14072\n",
      "\t- 7 => 0.04083\n",
      "\t- 8 => -0.04866\n",
      "\t- 9 => -0.08392\n"
     ]
    }
   ],
   "source": [
    "# Simulate r_0_1\n",
    "n_simuls = 1000\n",
    "r_0_1 = np.random.normal(loc = r_mean, scale = r_std, size = n_simuls)\n",
    "print(\"r_0_1 distribution =>\\n\")\n",
    "for i in range(10):\n",
    "    print(\"\\t-\", i, \"=>\", round(r_0_1[i],5))\n"
   ]
  },
  {
   "cell_type": "code",
   "execution_count": 4,
   "metadata": {},
   "outputs": [
    {
     "name": "stdout",
     "output_type": "stream",
     "text": [
      "C1 distribution =>\n",
      "\n",
      "\t- 0 => 1091.4859\n",
      "\t- 1 => 983.4248\n",
      "\t- 2 => 1047.3954\n",
      "\t- 3 => 954.1596\n",
      "\t- 4 => 1089.6926\n",
      "\t- 5 => 1030.4531\n",
      "\t- 6 => 1140.7192\n",
      "\t- 7 => 1040.8279\n",
      "\t- 8 => 951.3435\n",
      "\t- 9 => 916.0841\n"
     ]
    }
   ],
   "source": [
    "# Derive C1\n",
    "C1 = (1 + r_0_1)*C0\n",
    "\n",
    "print(\"C1 distribution =>\\n\")\n",
    "for i in range(10):\n",
    "    print(\"\\t-\", i, \"=>\", round(C1[i], 4))"
   ]
  },
  {
   "cell_type": "markdown",
   "metadata": {},
   "source": [
    "Compute the C1 descriptive statistics"
   ]
  },
  {
   "cell_type": "code",
   "execution_count": 5,
   "metadata": {},
   "outputs": [],
   "source": [
    "def print_stats(x, name):\n",
    "    print()\n",
    "    print(name, \"mean ..................... = \", round(x.mean(), 4))\n",
    "    print(name, \"std ...................... = \", round(x.std(),4))\n",
    "    print(name, \"skew...................... = \", round(st.skew(x),4))\n",
    "    print(name, \"kurt...................... = \", round(st.kurtosis(x),4))\n",
    "    print(name, \"mode...................... = \", round(st.mode(x)[0],4))\n",
    "\n",
    "    print()\n",
    "    print(name, \"5 percentile ............. = \", round(np.percentile(x, 5), 4))\n",
    "    print(name, \"50 percentile ............ = \", round(np.percentile(x, 50), 4))\n",
    "    print(name, \"95 percentile ............ = \", round(np.percentile(x, 95), 4))\n",
    "\n",
    "    print()\n",
    "    print(name, \"min ...................... = \", round(x.min(), 4))\n",
    "    print(name, \"max ...................... = \", round(x.max(), 4))\n",
    "\n",
    "    CI = st.t.interval(0.95, len(x)-1, loc=np.mean(x), scale=st.sem(x))\n",
    "    print()\n",
    "    print(name, \"lower boundary............ = \", round(CI[0], 4))\n",
    "    print(name, \"upper boundary............ = \", round(CI[1], 4))\n"
   ]
  },
  {
   "cell_type": "code",
   "execution_count": 6,
   "metadata": {},
   "outputs": [
    {
     "name": "stdout",
     "output_type": "stream",
     "text": [
      "\n",
      "C1 mean ..................... =  1094.3022\n",
      "C1 std ...................... =  118.6653\n",
      "C1 skew...................... =  -0.0173\n",
      "C1 kurt...................... =  -0.1069\n",
      "C1 mode...................... =  701.5741\n",
      "\n",
      "C1 5 percentile ............. =  896.4774\n",
      "C1 50 percentile ............ =  1096.2223\n",
      "C1 95 percentile ............ =  1290.9726\n",
      "\n",
      "C1 min ...................... =  701.5741\n",
      "C1 max ...................... =  1475.8017\n",
      "\n",
      "C1 lower boundary............ =  1086.9348\n",
      "C1 upper boundary............ =  1101.6697\n"
     ]
    }
   ],
   "source": [
    "print_stats(C1, \"C1\")"
   ]
  },
  {
   "cell_type": "markdown",
   "metadata": {},
   "source": [
    "C1 distribution"
   ]
  },
  {
   "cell_type": "code",
   "execution_count": 7,
   "metadata": {},
   "outputs": [
    {
     "data": {
      "image/png": "[encoded data removed]",
      "text/plain": [
       "<Figure size 640x480 with 1 Axes>"
      ]
     },
     "metadata": {},
     "output_type": "display_data"
    }
   ],
   "source": [
    "plt.hist(C1, bins='auto')\n",
    "plt.title(\"C1 distribution\")\n",
    "plt.show()"
   ]
  },
  {
   "cell_type": "markdown",
   "metadata": {},
   "source": [
    "The C1 distribution looks like a normal distribution.  \n",
    "This is expected Since C1 = (1 + r_0_1)*C0, and since r_0_1 is normal."
   ]
  },
  {
   "cell_type": "markdown",
   "metadata": {},
   "source": [
    "### 2. Monte Carlo Simulation Analysis to evaluate the investment after 30 years\n",
    "\n",
    "#### Modelisation\n",
    "\n",
    "##### Deterministic model\n",
    "\n",
    "C30 = = (1 + r30) * C0\n",
    "\n",
    "where:\n",
    " - C30 = amount of investement after 30 years  \n",
    " - r30 : rate of return from t = 0 to t = 30th year  \n",
    "\n",
    "Using the successive annual return, r30 can be rewritten this way:\n",
    "\n",
    "r30 = (1 + r_0_1) * (1 + r_1_2) * ... * (1 + r_29_30) * C0 - 1  \n",
    "    \n",
    "where:\n",
    " - r_n_(n+1): rate of return from t = nth year to t = (n+1)th year  \n",
    "\n",
    "##### Random Variables\n",
    "\n",
    "The <u>r_n_(n+1)</u> variables are the input random variables of the model.  \n",
    "C30 is the only output random variable of the model.  \n",
    "\n",
    "##### Assumptions\n",
    "\n",
    "All the rates of return, r_n_(n+1), are independent of each other.  \n",
    "Moreover they're all having the same normal distribution => N(mu, sigma) where:  \n",
    "- mu = historical mean return  \n",
    "- sigma = historical return stdev\n",
    "\n",
    "#### Simulation\n",
    "\n",
    "The input variables r_n_(n+1) are normal and independent, therefore they can be independently simulated by drawing random numbers from the given normal distribution.  \n",
    "\n",
    "By using the deterministic formulas:\n",
    " - r30 = (1 + r_0_1) * (1 + r_1_2) * ... * (1 + r_29_30) * C0 - 1  \n",
    " - C30 = = (1 + r30) * C0\n",
    " \n",
    " the distribution of the output variable C30 can be derived."
   ]
  },
  {
   "cell_type": "code",
   "execution_count": 8,
   "metadata": {},
   "outputs": [
    {
     "name": "stdout",
     "output_type": "stream",
     "text": [
      "r_n_n1 distribution =>\n",
      "\n",
      "\t- 0 => [ 0.23717879  0.15224875  0.28691522 -0.03428626 -0.02257801]\n",
      "\t- 1 => [-0.09143683  0.33919897  0.17032128  0.10555861 -0.00253619]\n",
      "\t- 2 => [0.1208389  0.1482292  0.07995464 0.34629897 0.04076757]\n",
      "\t- 3 => [ 0.18615956  0.19568374  0.12889155 -0.09671336 -0.05286715]\n",
      "\t- 4 => [ 0.02252161 -0.06835958 -0.09238568 -0.12565704  0.01914381]\n",
      "\t- 5 => [ 0.40451404  0.07769532  0.2051428  -0.01463215 -0.06837801]\n",
      "\t- 6 => [ 0.06538902  0.0958447   0.19908247 -0.11231151  0.49320186]\n",
      "\t- 7 => [ 0.01121592  0.02715054 -0.08773495  0.09895663 -0.04151204]\n",
      "\t- 8 => [-0.07512565  0.0790617   0.03381051  0.13528177  0.21799251]\n",
      "\t- 9 => [0.21592779 0.00226646 0.25136195 0.09987687 0.0606064 ]\n"
     ]
    }
   ],
   "source": [
    "# Simulate r_n_n1 (= r_n_(n+1))\n",
    "n_simuls = 1000\n",
    "n_years = 30\n",
    "r_n_n1 = np.random.normal(loc = r_mean, scale = r_std, size = (n_years, n_simuls))\n",
    "print(\"r_n_n1 distribution =>\\n\")\n",
    "for i in range(10):\n",
    "    print(\"\\t-\", i, \"=>\", r_n_n1[i][0:5])"
   ]
  },
  {
   "cell_type": "code",
   "execution_count": 9,
   "metadata": {},
   "outputs": [
    {
     "name": "stdout",
     "output_type": "stream",
     "text": [
      "C30 distribution =>\n",
      "\n",
      "\t- 0 => 18171.363\n",
      "\t- 1 => 6433.1043\n",
      "\t- 2 => 27941.3678\n",
      "\t- 3 => 9846.0662\n",
      "\t- 4 => 9505.3665\n",
      "\t- 5 => 9859.3097\n",
      "\t- 6 => 9137.8839\n",
      "\t- 7 => 14828.4543\n",
      "\t- 8 => 35739.0734\n",
      "\t- 9 => 4742.3274\n"
     ]
    }
   ],
   "source": [
    "# Derive r_30_plus_1 (= r_30 + 1 = product of all (1 + r_n_n1))\n",
    "r_30_plus_1 = np.prod(1 + r_n_n1, axis = 0)\n",
    "\n",
    "# Derive C30\n",
    "C30 = r_30_plus_1 * C0\n",
    "\n",
    "print(\"C30 distribution =>\\n\")\n",
    "for i in range(10):\n",
    "    print(\"\\t-\", i, \"=>\", round(C30[i], 4))"
   ]
  },
  {
   "cell_type": "code",
   "execution_count": 10,
   "metadata": {},
   "outputs": [
    {
     "name": "stdout",
     "output_type": "stream",
     "text": [
      "\n",
      "C30 mean ..................... =  13066.9826\n",
      "C30 std ...................... =  9055.6775\n",
      "C30 skew...................... =  2.8569\n",
      "C30 kurt...................... =  15.1532\n",
      "C30 mode...................... =  1757.7124\n",
      "\n",
      "C30 5 percentile ............. =  4228.5794\n",
      "C30 50 percentile ............ =  10994.4334\n",
      "C30 95 percentile ............ =  29629.8689\n",
      "\n",
      "C30 min ...................... =  1757.7124\n",
      "C30 max ...................... =  95678.6698\n",
      "\n",
      "C30 lower boundary............ =  12504.7542\n",
      "C30 upper boundary............ =  13629.211\n"
     ]
    }
   ],
   "source": [
    "print_stats(C30, \"C30\")"
   ]
  },
  {
   "cell_type": "markdown",
   "metadata": {},
   "source": [
    "C30 distribution"
   ]
  },
  {
   "cell_type": "code",
   "execution_count": 11,
   "metadata": {},
   "outputs": [
    {
     "data": {
      "image/png": "[encoded data removed]",
      "text/plain": [
       "<Figure size 640x480 with 1 Axes>"
      ]
     },
     "metadata": {},
     "output_type": "display_data"
    }
   ],
   "source": [
    "plt.hist(C30, bins='auto')\n",
    "plt.title(\"C30 distribution\")\n",
    "plt.show()"
   ]
  },
  {
   "cell_type": "markdown",
   "metadata": {},
   "source": [
    "The C30 is very skewed and does not look like a normal distribution at all, although each individual return, r_n_n1, is normal."
   ]
  },
  {
   "cell_type": "markdown",
   "metadata": {},
   "source": [
    "### 3. Monte Carlo Simulation Analysis to evaluate a portfolio of 2 correlated assets after 30 years\n",
    "\n",
    "Let's consider another asset with these characteritics:  \n",
    "\n",
    "r_mean2 = 4%  \n",
    "r_std2 = 7%  \n",
    "\n",
    "Let's assume that the correlation between the 2 assets is:  \n",
    "\n",
    "correl = -0.2\n",
    "\n",
    "The portfolio consists now of a 50/50 split of both assets.\n",
    "In other words:  \n",
    " - 0.5 * C0 are invested in asset 1  \n",
    " - 0.5 * C0 are invested in asset 2  \n",
    "\n",
    "The final value of the portfolio is the sum of the final value of the investment in each asset.\n",
    "\n",
    "#### Modelisation\n",
    "\n",
    "The returns of asset 1 and asset 2 follow a multivariate normal distribution with the specified correlation.  \n",
    "\n",
    "For each asset, the modelisation is the same as in the previous case (1 ear).  \n",
    "\n",
    "At the end, both amounts are added.\n",
    "\n",
    "#### Implementation of the correlation between the 2 assets\n",
    "\n",
    "Because the 2 assets are not independent, the corresponding random return must be drawn together.  \n",
    "To do so, the covariance matrix of the 2 assets is needed.\n",
    "\n"
   ]
  },
  {
   "cell_type": "code",
   "execution_count": 12,
   "metadata": {},
   "outputs": [
    {
     "name": "stdout",
     "output_type": "stream",
     "text": [
      "means => [0.09, 0.04]\n"
     ]
    }
   ],
   "source": [
    "r_mean2 = 4/100\n",
    "r_std2 = 7/100\n",
    "\n",
    "correl = -0.2\n",
    "\n",
    "n_simuls = 1000\n",
    "n_years = 30\n",
    "\n",
    "# group the means\n",
    "r_means = [r_mean, r_mean2]\n",
    "\n",
    "print(\"means =>\", r_means)"
   ]
  },
  {
   "cell_type": "code",
   "execution_count": 13,
   "metadata": {},
   "outputs": [
    {
     "name": "stdout",
     "output_type": "stream",
     "text": [
      "covariance_matrix =>\n",
      "\n",
      "[[ 0.0144  -0.00168]\n",
      " [-0.00168  0.0049 ]]\n"
     ]
    }
   ],
   "source": [
    "# var + cov + cov matrix\n",
    "var = r_std**2\n",
    "var2 = r_std2**2\n",
    "cov = correl*r_std*r_std2\n",
    "\n",
    "covariance_matrix = np.array([\n",
    "        [ var, cov  ],\n",
    "        [ cov, var2 ]\n",
    "    ])\n",
    "\n",
    "print(\"covariance_matrix =>\\n\")\n",
    "print(covariance_matrix)"
   ]
  },
  {
   "cell_type": "code",
   "execution_count": 14,
   "metadata": {},
   "outputs": [
    {
     "name": "stdout",
     "output_type": "stream",
     "text": [
      "correlated_returns distribution =>\n",
      "\n",
      "\t- 0 => 0.2428 \t 0.0288\n",
      "\t- 1 => 0.0981 \t -0.0322\n",
      "\t- 2 => 0.0411 \t 0.0083\n",
      "\t- 3 => 0.0975 \t 0.0609\n",
      "\t- 4 => 0.0461 \t 0.0079\n",
      "\t- 5 => 0.0816 \t -0.0451\n",
      "\t- 6 => 0.1541 \t 0.05\n",
      "\t- 7 => 0.0018 \t 0.0396\n",
      "\t- 8 => 0.0378 \t -0.0153\n",
      "\t- 9 => 0.2603 \t 0.0707\n"
     ]
    }
   ],
   "source": [
    "# Simulate 2 correlated random\n",
    "n_simuls = 1000\n",
    "correlated_returns = np.random.multivariate_normal(r_means, covariance_matrix, n_simuls)\n",
    "\n",
    "print(\"correlated_returns distribution =>\\n\")\n",
    "for i in range(10):\n",
    "    print(\"\\t-\", i, \"=>\", round(correlated_returns[i][0], 4), \"\\t\", round(correlated_returns[i][1], 4))\n"
   ]
  },
  {
   "cell_type": "code",
   "execution_count": 15,
   "metadata": {},
   "outputs": [
    {
     "name": "stdout",
     "output_type": "stream",
     "text": [
      "C1_per_asset =>\n",
      "\n",
      "\t- 0 => 621.3901 \t 514.393\n",
      "\t- 1 => 549.0478 \t 483.8824\n",
      "\t- 2 => 520.5363 \t 504.1418\n",
      "\t- 3 => 548.7579 \t 530.4388\n",
      "\t- 4 => 523.07 \t 503.9295\n",
      "\t- 5 => 540.789 \t 477.451\n",
      "\t- 6 => 577.0459 \t 525.0231\n",
      "\t- 7 => 500.9058 \t 519.8118\n",
      "\t- 8 => 518.8907 \t 492.3256\n",
      "\t- 9 => 630.1549 \t 535.3502\n"
     ]
    }
   ],
   "source": [
    "C1_per_asset = 0.5 * C0 * (1 + correlated_returns)\n",
    "\n",
    "print(\"C1_per_asset =>\\n\")\n",
    "for i in range(10):\n",
    "    print(\"\\t-\", i, \"=>\", round(C1_per_asset[i][0], 4), \"\\t\", round(C1_per_asset[i][1], 4))"
   ]
  },
  {
   "cell_type": "code",
   "execution_count": 16,
   "metadata": {},
   "outputs": [
    {
     "name": "stdout",
     "output_type": "stream",
     "text": [
      "C1 distribution =>\n",
      "\n",
      "\t- 0 => 1135.783\n",
      "\t- 1 => 1032.9301\n",
      "\t- 2 => 1024.6782\n",
      "\t- 3 => 1079.1967\n",
      "\t- 4 => 1026.9994\n",
      "\t- 5 => 1018.2401\n",
      "\t- 6 => 1102.069\n",
      "\t- 7 => 1020.7175\n",
      "\t- 8 => 1011.2164\n",
      "\t- 9 => 1165.5051\n"
     ]
    }
   ],
   "source": [
    "C1 = np.sum(C1_per_asset, axis=1)\n",
    "\n",
    "print(\"C1 distribution =>\\n\")\n",
    "for i in range(10):\n",
    "    print(\"\\t-\", i, \"=>\", round(C1[i], 4))"
   ]
  },
  {
   "cell_type": "markdown",
   "metadata": {},
   "source": [
    "To compute the value of the portfolio after 30 years, each investment has to be handled separately.  \n",
    "The sum is then done at the end, when each distribution is available.  \n",
    "\n",
    "It is assumed that the correlation remains constant over the years."
   ]
  },
  {
   "cell_type": "code",
   "execution_count": 17,
   "metadata": {},
   "outputs": [
    {
     "name": "stdout",
     "output_type": "stream",
     "text": [
      "Returns per asset =>\n",
      "\n",
      "\t- 0 => 8.0873 \t 2.3381\n",
      "\t- 1 => 17.2302 \t 2.2585\n",
      "\t- 2 => 16.6186 \t 2.3339\n",
      "\t- 3 => 15.2639 \t 4.0536\n",
      "\t- 4 => 9.5002 \t 3.2772\n",
      "\t- 5 => 17.3708 \t 2.6392\n",
      "\t- 6 => 14.7822 \t 2.0257\n",
      "\t- 7 => 23.1786 \t 2.2931\n",
      "\t- 8 => 13.4951 \t 2.0473\n",
      "\t- 9 => 20.0623 \t 3.9575\n"
     ]
    }
   ],
   "source": [
    "n_simuls = 1000\n",
    "n_years = 30\n",
    "\n",
    "return_asset1 = np.ones(n_simuls)\n",
    "return_asset2 = np.ones(n_simuls)\n",
    "\n",
    "for year in range(n_years):\n",
    "    correlated_returns = np.random.multivariate_normal(r_means, covariance_matrix, n_simuls)\n",
    "    return_asset1 = return_asset1 * (1 + correlated_returns[:,0])\n",
    "    return_asset2 = return_asset2 * (1 + correlated_returns[:,1])\n",
    "\n",
    "print(\"Returns per asset =>\\n\")\n",
    "for i in range(10):\n",
    "    print(\"\\t-\", i, \"=>\", round(return_asset1[i], 4), \"\\t\", round(return_asset2[i], 4))"
   ]
  },
  {
   "cell_type": "markdown",
   "metadata": {},
   "source": [
    "Compute the total value"
   ]
  },
  {
   "cell_type": "code",
   "execution_count": 18,
   "metadata": {},
   "outputs": [
    {
     "name": "stdout",
     "output_type": "stream",
     "text": [
      "C30 distribution =>\n",
      "\n",
      "\t- 0 => 5212.6847\n",
      "\t- 1 => 9744.3452\n",
      "\t- 2 => 9476.2501\n",
      "\t- 3 => 9658.7245\n",
      "\t- 4 => 6388.6765\n",
      "\t- 5 => 10004.9951\n",
      "\t- 6 => 8403.9742\n",
      "\t- 7 => 12735.8865\n",
      "\t- 8 => 7771.223\n",
      "\t- 9 => 12009.9134\n"
     ]
    }
   ],
   "source": [
    "C30 = 0.5 * C0 * return_asset1 + 0.5 * C0 * return_asset2\n",
    "\n",
    "print(\"C30 distribution =>\\n\")\n",
    "for i in range(10):\n",
    "    print(\"\\t-\", i, \"=>\", round(C30[i], 4))"
   ]
  },
  {
   "cell_type": "code",
   "execution_count": 19,
   "metadata": {},
   "outputs": [
    {
     "name": "stdout",
     "output_type": "stream",
     "text": [
      "\n",
      "C30 mean ..................... =  8157.4169\n",
      "C30 std ...................... =  4339.9904\n",
      "C30 skew...................... =  2.6092\n",
      "C30 kurt...................... =  15.4077\n",
      "C30 mode...................... =  1938.5298\n",
      "\n",
      "C30 5 percentile ............. =  3737.0397\n",
      "C30 50 percentile ............ =  7065.9282\n",
      "C30 95 percentile ............ =  16380.3626\n",
      "\n",
      "C30 min ...................... =  1938.5298\n",
      "C30 max ...................... =  53185.4326\n",
      "\n",
      "C30 lower boundary............ =  7887.9654\n",
      "C30 upper boundary............ =  8426.8684\n"
     ]
    }
   ],
   "source": [
    "print_stats(C30, \"C30\")"
   ]
  },
  {
   "cell_type": "code",
   "execution_count": 20,
   "metadata": {},
   "outputs": [
    {
     "data": {
      "image/png": "[encoded data removed]",
      "text/plain": [
       "<Figure size 640x480 with 1 Axes>"
      ]
     },
     "metadata": {},
     "output_type": "display_data"
    }
   ],
   "source": [
    "plt.hist(C30, bins='auto')\n",
    "plt.title(\"C30 distribution : 50% asset #1 + 50% asset #2\")\n",
    "plt.show()"
   ]
  }
 ],
 "metadata": {
  "kernelspec": {
   "display_name": "Python 3",
   "language": "python",
   "name": "python3"
  },
  "language_info": {
   "codemirror_mode": {
    "name": "ipython",
    "version": 3
   },
   "file_extension": ".py",
   "mimetype": "text/x-python",
   "name": "python",
   "nbconvert_exporter": "python",
   "pygments_lexer": "ipython3",
   "version": "3.11.2"
  }
 },
 "nbformat": 4,
 "nbformat_minor": 0
}
